{
 "cells": [
  {
   "cell_type": "code",
   "execution_count": 12,
   "metadata": {},
   "outputs": [
    {
     "name": "stdout",
     "output_type": "stream",
     "text": [
      "The secret couple(s:  [['alina', 'naza'], ['aiba', 'nora']]\n"
     ]
    }
   ],
   "source": [
    "# Secret Lover Game\n",
    "# GAME EXPLANATION: in a group of boys and girls, everybody points to the one that \n",
    "# he or she likes at the same time, if there are couples, they go on a date\n",
    "### THE PROBLEM with the game, nobody wants to risk to \n",
    "# be unmusked while getting rejected. We need to know \n",
    "# if there a couples in the group in discrete manner\n",
    "\n",
    "number_of_players = int(input(\"How many participants: \"))\n",
    "\n",
    "players_list = []\n",
    "\n",
    "for i in range(number_of_players):\n",
    "    i = (\n",
    "        input(\"Pls input your first name: \").lower(),\n",
    "        input(\"Who you like: \").lower()\n",
    "      )\n",
    "    players_list.append(i)\n",
    "#print(players_list)\n",
    "\n",
    "sorted_players_list = []\n",
    "\n",
    "for i in players_list:\n",
    "    sorted_players_list.append(sorted(i))\n",
    "#print(sorted_players_list)\n",
    "\n",
    "not_couples = [] # empty list to hold unique elements from the list\n",
    "secret_couple = [] # empty list to hold the duplicate elements from the list\n",
    "for i in sorted_players_list:\n",
    "    if i not in not_couples:\n",
    "        not_couples.append(i)\n",
    "    else:\n",
    "        secret_couple.append(i)\n",
    "\n",
    "#print(secret_couple)\n",
    "\n",
    "if len(secret_couple) == 0:\n",
    "    print(\"There are no secret couples in this group.\")\n",
    "else:\n",
    "    print(\"The secret couple(s: \", secret_couple)\n"
   ]
  },
  {
   "cell_type": "code",
   "execution_count": null,
   "metadata": {},
   "outputs": [],
   "source": []
  },
  {
   "cell_type": "code",
   "execution_count": null,
   "metadata": {},
   "outputs": [],
   "source": []
  },
  {
   "cell_type": "code",
   "execution_count": null,
   "metadata": {},
   "outputs": [],
   "source": []
  },
  {
   "cell_type": "code",
   "execution_count": null,
   "metadata": {},
   "outputs": [],
   "source": []
  }
 ],
 "metadata": {
  "kernelspec": {
   "display_name": "Python 3",
   "language": "python",
   "name": "python3"
  },
  "language_info": {
   "codemirror_mode": {
    "name": "ipython",
    "version": 3
   },
   "file_extension": ".py",
   "mimetype": "text/x-python",
   "name": "python",
   "nbconvert_exporter": "python",
   "pygments_lexer": "ipython3",
   "version": "3.9.6"
  },
  "orig_nbformat": 4
 },
 "nbformat": 4,
 "nbformat_minor": 2
}
